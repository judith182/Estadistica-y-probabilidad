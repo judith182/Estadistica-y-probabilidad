{
  "nbformat": 4,
  "nbformat_minor": 0,
  "metadata": {
    "colab": {
      "provenance": [],
      "authorship_tag": "ABX9TyMTLJySGkHSuP0BEEJbd/n/",
      "include_colab_link": true
    },
    "kernelspec": {
      "name": "python3",
      "display_name": "Python 3"
    },
    "language_info": {
      "name": "python"
    }
  },
  "cells": [
    {
      "cell_type": "markdown",
      "metadata": {
        "id": "view-in-github",
        "colab_type": "text"
      },
      "source": [
        "<a href=\"https://colab.research.google.com/github/judith182/Estadistica-y-probabilidad/blob/main/local_poly_regression.ipynb\" target=\"_parent\"><img src=\"https://colab.research.google.com/assets/colab-badge.svg\" alt=\"Open In Colab\"/></a>"
      ]
    },
    {
      "cell_type": "code",
      "execution_count": null,
      "metadata": {
        "id": "fiO8J0L8_1-0"
      },
      "outputs": [],
      "source": [
        "\n",
        "import numpy as np\n",
        "import matplotlib.pyplot as plt\n",
        "from scipy.stats import norm, uniform\n",
        "\n",
        "# m(x) = e_1.T(X_x.T W_x X_x)**(-1) @ (X_x.T W_x Y)\n",
        "\n",
        "def m(x):\n",
        "    return (np.sin(2*np.pi*x**3))**3\n",
        "\n",
        "n = 100\n",
        "h = 0.024\n",
        "epsilon = norm.rvs(scale=0.1, size=n)\n",
        "x_dat = uniform.rvs(size=n)\n",
        "y = np.array([m(xx) for xx in x_dat])\n",
        "\n",
        "x_vect = np.linspace(0,1,100)\n",
        "m_vect =  [m(xx) for xx in x_vect]\n",
        "\n",
        "y_dat = y+epsilon\n",
        "\n",
        "plt.figure(figsize=(15,7.5))\n",
        "plt.scatter(x_dat, y+epsilon)\n",
        "plt.plot(x_vect, m_vect, 'r--')\n",
        "\n",
        "def hat_m(x):\n",
        "    XX = np.vstack([np.ones(n),(x_dat-x)]).T\n",
        "    W = np.diag(norm.pdf((x_dat-x)/h))\n",
        "    beta_0 = np.linalg.solve(XX.T @ W @ XX, XX.T @ W @ y_dat)[0]\n",
        "    return(beta_0)\n",
        "\n",
        "hat_m_vect = [hat_m(xx) for xx in x_vect]\n",
        "\n",
        "plt.figure(figsize=(15,7.5))\n",
        "plt.scatter(x_dat, y+epsilon)\n",
        "plt.plot(x_vect, m_vect, 'r--')\n",
        "plt.plot(x_vect, hat_m_vect, 'purple')\n"
      ]
    }
  ]
}