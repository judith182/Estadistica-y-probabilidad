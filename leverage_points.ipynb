{
  "nbformat": 4,
  "nbformat_minor": 0,
  "metadata": {
    "colab": {
      "provenance": [],
      "authorship_tag": "ABX9TyNHsmXyFpnbNopBYlSvaYH1",
      "include_colab_link": true
    },
    "kernelspec": {
      "name": "python3",
      "display_name": "Python 3"
    },
    "language_info": {
      "name": "python"
    }
  },
  "cells": [
    {
      "cell_type": "markdown",
      "metadata": {
        "id": "view-in-github",
        "colab_type": "text"
      },
      "source": [
        "<a href=\"https://colab.research.google.com/github/judith182/Estadistica-y-probabilidad/blob/main/leverage_points.ipynb\" target=\"_parent\"><img src=\"https://colab.research.google.com/assets/colab-badge.svg\" alt=\"Open In Colab\"/></a>"
      ]
    },
    {
      "cell_type": "code",
      "execution_count": null,
      "metadata": {
        "id": "R3_1fyrCAdjj"
      },
      "outputs": [],
      "source": [
        "import numpy as np\n",
        "import matplotlib.pyplot as plt\n",
        "from scipy.stats import t, norm\n",
        "import random\n",
        "\n",
        "beta_0 = 1\n",
        "beta_1 = 1.5\n",
        "\n",
        "x = np.linspace(0, 5, 20)\n",
        "x = np.append(x,[6])\n",
        "n = len(x)\n",
        "\n",
        "np.random.seed(111)\n",
        "y = beta_0+beta_1*x+norm.rvs(0,0.5,n)\n",
        "\n",
        "S = x.var()*(n/(n-1))\n",
        "D_M_2 = 1/S * np.diag((x-x.mean()).reshape(21,1) @ (x-x.mean()).reshape(21,1).T)\n",
        "\n",
        "# influence of the points\n",
        "h_ii = 1/n + D_M_2/(n-1)\n",
        "h_ii\n",
        "\n",
        "X = np.vstack([np.ones(n), x]).T\n",
        "p_ii = np.diag(X @ np.linalg.solve(X.T @ X, X.T))\n",
        "p_ii\n",
        "\n",
        "plt.figure(figsize=(7.5,7.5))\n",
        "plt.scatter(x, y, label='Original data', c=h_ii)\n",
        "plt.colorbar()\n",
        "\n",
        "# 11 points\n",
        "x = np.linspace(0, 5, 10)\n",
        "x = np.append(x,[6])\n",
        "n = len(x)\n",
        "\n",
        "np.random.seed(111)\n",
        "y = beta_0+beta_1*x+norm.rvs(0,0.5,n)\n",
        "X = np.vstack([np.ones(n), x]).T\n",
        "p_ii = np.diag(X @ np.linalg.solve(X.T @ X, X.T))\n",
        "\n",
        "plt.figure(figsize=(7.5,7.5))\n",
        "plt.scatter(x, y, label='Original data', c=p_ii)\n",
        "plt.colorbar()\n",
        "\n",
        "# 6 points\n",
        "x = np.linspace(0, 5, 5)\n",
        "x = np.append(x,[6])\n",
        "n = len(x)\n",
        "\n",
        "np.random.seed(111)\n",
        "y = beta_0+beta_1*x+norm.rvs(0,0.5,n)\n",
        "X = np.vstack([np.ones(n), x]).T\n",
        "p_ii = np.diag(X @ np.linalg.solve(X.T @ X, X.T))\n",
        "\n",
        "plt.figure(figsize=(7.5,7.5))\n",
        "plt.scatter(x, y, label='Original data', c=p_ii)\n",
        "plt.colorbar()\n"
      ]
    }
  ]
}