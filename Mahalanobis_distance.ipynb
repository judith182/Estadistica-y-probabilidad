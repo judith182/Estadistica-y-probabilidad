{
  "nbformat": 4,
  "nbformat_minor": 0,
  "metadata": {
    "colab": {
      "provenance": [],
      "authorship_tag": "ABX9TyNr8D4SiUB20XweJybveRwQ",
      "include_colab_link": true
    },
    "kernelspec": {
      "name": "python3",
      "display_name": "Python 3"
    },
    "language_info": {
      "name": "python"
    }
  },
  "cells": [
    {
      "cell_type": "markdown",
      "metadata": {
        "id": "view-in-github",
        "colab_type": "text"
      },
      "source": [
        "<a href=\"https://colab.research.google.com/github/judith182/Estadistica-y-probabilidad/blob/main/Mahalanobis_distance.ipynb\" target=\"_parent\"><img src=\"https://colab.research.google.com/assets/colab-badge.svg\" alt=\"Open In Colab\"/></a>"
      ]
    },
    {
      "cell_type": "code",
      "execution_count": null,
      "metadata": {
        "id": "3VoJrdYqAVep"
      },
      "outputs": [],
      "source": [
        "\n",
        "import numpy as np\n",
        "import matplotlib.pyplot as plt\n",
        "from scipy.stats import t, multivariate_normal\n",
        "import random\n",
        "\n",
        "random.seed(111)\n",
        "mu = [0,0]\n",
        "Sigma = [[2,0.7],[0.7,2]]\n",
        "points = multivariate_normal.rvs(mu,Sigma,200)\n",
        "\n",
        "# Mahalanobis distance\n",
        "D_M = np.sqrt(np.diag((points-mu) @ np.linalg.inv(Sigma) @ (points-mu).T))\n",
        "\n",
        "plt.figure(figsize=(7.5,7.5))\n",
        "plt.scatter(points[:,0], points[:,1], label='Original data', c=D_M)\n",
        "plt.colorbar()\n"
      ]
    }
  ]
}