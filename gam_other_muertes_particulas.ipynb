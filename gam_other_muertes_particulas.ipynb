{
  "nbformat": 4,
  "nbformat_minor": 0,
  "metadata": {
    "colab": {
      "provenance": [],
      "authorship_tag": "ABX9TyNHFmvS0EPVinc4iljCUV4q",
      "include_colab_link": true
    },
    "kernelspec": {
      "name": "python3",
      "display_name": "Python 3"
    },
    "language_info": {
      "name": "python"
    }
  },
  "cells": [
    {
      "cell_type": "markdown",
      "metadata": {
        "id": "view-in-github",
        "colab_type": "text"
      },
      "source": [
        "<a href=\"https://colab.research.google.com/github/judith182/Estadistica-y-probabilidad/blob/main/gam_other_muertes_particulas.ipynb\" target=\"_parent\"><img src=\"https://colab.research.google.com/assets/colab-badge.svg\" alt=\"Open In Colab\"/></a>"
      ]
    },
    {
      "cell_type": "code",
      "execution_count": null,
      "metadata": {
        "id": "ApCrduu7B012"
      },
      "outputs": [],
      "source": [
        "from pygam import PoissonGAM, LogisticGAM, LinearGAM\n",
        "from pygam import s, f, te\n",
        "from pygam.datasets import chicago, default, mcycle, faithful\n",
        "\n",
        "import numpy as np\n",
        "import matplotlib.pyplot as plt\n",
        "from mpl_toolkits import mplot3d\n",
        "\n",
        "#Chicago air pollution and death rate data\n",
        "chicago(return_X_y=False)\n",
        "\n",
        "X, y = chicago(return_X_y=True)\n",
        "\n",
        "# y = number of death\n",
        "# time = time in days\n",
        "# tmpd = temperature in fahrenheit\n",
        "# pm10median = median particles in 2.5-10 per cubic m\n",
        "# o3median = Ozone in parts per billion\n",
        "# X = [time, tmpd, pm10median, o3median]\n",
        "\n",
        "X[:,1].min(), X[:,1].max()\n",
        "X[:,3].min(), X[:,3].max()\n",
        "\n",
        "gam = PoissonGAM(s(0, n_splines=200) + te(3, 1) + s(2)).fit(X, y)\n",
        "gam.summary()\n",
        "\n",
        "XX = gam.generate_X_grid(term=1, meshgrid=True)\n",
        "Z = gam.partial_dependence(term=1, X=XX, meshgrid=True)\n",
        "\n",
        "plt.ion()\n",
        "plt.rcParams['figure.figsize'] = (12, 8)\n",
        "ax = plt.axes(projection='3d')\n",
        "ax.plot_surface(XX[0], XX[1], np.exp(Z), cmap='viridis')\n",
        "\n",
        "XX = gam.generate_X_grid(term=0, meshgrid=True)\n",
        "Z = gam.partial_dependence(term=0, X=XX, meshgrid=True)\n",
        "\n",
        "## plotting\n",
        "plt.plot(XX[0], np.exp(Z))\n",
        "\n",
        "XX = gam.generate_X_grid(term=2, meshgrid=True)\n",
        "Z = gam.partial_dependence(term=0, X=XX, meshgrid=True)\n",
        "\n",
        "## plotting\n",
        "plt.plot(XX[0], np.exp(Z))\n",
        "\n",
        "#Prediction\n",
        "XX = [[0, 0, 0, 0]]\n",
        "a0 = gam.coef_[-1]\n",
        "a1 = gam.partial_dependence(term=0, X=XX)\n",
        "a2 = gam.partial_dependence(term=1, X=XX)\n",
        "a3 = gam.partial_dependence(term=2, X=XX)\n",
        "np.exp(a1+a2+a3+a0)\n",
        "gam.predict(XX)\n",
        "\n",
        "plt.scatter(gam.predict(X),y)\n",
        "plt.plot(y,y,'r--')\n",
        "\n",
        "###\n",
        "X, y = mcycle(return_X_y=True)\n",
        "gam = LinearGAM(n_splines=25).gridsearch(X, y)\n",
        "XX = gam.generate_X_grid(term=0, n=500)\n",
        "\n",
        "plt.plot(XX, gam.predict(XX), 'r--')\n",
        "plt.plot(XX, gam.prediction_intervals(XX, width=.95), color='b', ls='--')\n",
        "\n",
        "plt.scatter(X, y, facecolor='gray', edgecolors='none')\n",
        "plt.title('95% prediction interval')\n",
        "\n",
        "###\n",
        "X, y = faithful(return_X_y=True)\n",
        "gam = PoissonGAM().gridsearch(X, y)\n",
        "\n",
        "plt.hist(faithful(return_X_y=False)['eruptions'], bins=200, color='k');\n",
        "plt.plot(X, gam.predict(X), color='r')\n"
      ]
    }
  ]
}