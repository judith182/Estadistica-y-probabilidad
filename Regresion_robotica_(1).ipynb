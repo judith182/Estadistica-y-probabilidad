{
  "nbformat": 4,
  "nbformat_minor": 0,
  "metadata": {
    "colab": {
      "provenance": [],
      "include_colab_link": true
    },
    "kernelspec": {
      "name": "ir",
      "display_name": "R"
    },
    "language_info": {
      "name": "R"
    }
  },
  "cells": [
    {
      "cell_type": "markdown",
      "metadata": {
        "id": "view-in-github",
        "colab_type": "text"
      },
      "source": [
        "<a href=\"https://colab.research.google.com/github/judith182/Estadistica-y-probabilidad/blob/main/Regresion_robotica_(1).ipynb\" target=\"_parent\"><img src=\"https://colab.research.google.com/assets/colab-badge.svg\" alt=\"Open In Colab\"/></a>"
      ]
    },
    {
      "cell_type": "code",
      "source": [
        "anios<-c(4,2,3,5,2,3,4,5,4,3)\n",
        "costo<-c(148,128,133,154,118,145,143,159,142,127)"
      ],
      "metadata": {
        "id": "hDOLmuXILhxr"
      },
      "execution_count": null,
      "outputs": []
    },
    {
      "cell_type": "code",
      "execution_count": null,
      "metadata": {
        "id": "3etEYfYM9v-u"
      },
      "outputs": [],
      "source": [
        "#install.packages(\"car\")\n",
        "library(car) #Utilizar este paquete\n",
        "url <- \"http://www.csub.edu/~emontoya2/datasets/textbookdata/Kutner/Chapter%20%201%20Data%20Sets/CH01TA01.txt\" #Dato medio de juguete\n",
        "toluca.data <- read.csv( url , header = FALSE , col.names = c(\"xvar\", \"yvar\") , sep = \"\" )\n",
        "#Datos medio de juguete\n",
        "\n",
        "#Applied Linear Regressions Models.Fourth Edition. Michael H. Kutner, Christopher J. Nachtsheim & John Neter"
      ]
    },
    {
      "cell_type": "code",
      "source": [
        "toluca.data"
      ],
      "metadata": {
        "id": "AEAo94vs_76v"
      },
      "execution_count": null,
      "outputs": []
    },
    {
      "cell_type": "markdown",
      "source": [
        "Se disponen datos de 10 restaurantes de Pizzerías Armand ubicados en centors educativos; sea **x** el tamaño de la población estudianti (en miles) y, **y** las ventas trimestrales (en miles de dólares).\n",
        "Los valores se muestran en la tabla siguiente (slide 43 de la presentación):"
      ],
      "metadata": {
        "id": "Fz4wbXCF-tJ8"
      }
    },
    {
      "cell_type": "code",
      "source": [],
      "metadata": {
        "id": "a1rmWjCp-oy7"
      },
      "execution_count": null,
      "outputs": []
    },
    {
      "cell_type": "markdown",
      "source": [
        "\n",
        "\n",
        "1.   Estadísticas de resumen\n",
        "2.   Exploración gráfica\n",
        "3.   Modelos en general (sin inferencia)\n",
        "4.   Conclusiones hasta el momento.\n",
        "\n"
      ],
      "metadata": {
        "id": "Vajf7ogHMMCc"
      }
    },
    {
      "cell_type": "code",
      "source": [
        "# Estadísticas de resumen ejemplo de mtto de maquinaria\n",
        "#summary(anios)\n",
        "#summary(costo)\n",
        "mtto<-data.frame(Anios = anios, Costo = costo)\n",
        "summary(mtto)\n"
      ],
      "metadata": {
        "colab": {
          "base_uri": "https://localhost:8080/",
          "height": 138
        },
        "id": "9wLS2h4K_tWy",
        "outputId": "9177e7c5-f8f9-474e-aa10-34e1efd7acaf"
      },
      "execution_count": null,
      "outputs": [
        {
          "output_type": "display_data",
          "data": {
            "text/plain": [
              "     Anios         Costo      \n",
              " Min.   :2.0   Min.   :118.0  \n",
              " 1st Qu.:3.0   1st Qu.:129.2  \n",
              " Median :3.5   Median :142.5  \n",
              " Mean   :3.5   Mean   :139.7  \n",
              " 3rd Qu.:4.0   3rd Qu.:147.2  \n",
              " Max.   :5.0   Max.   :159.0  "
            ]
          },
          "metadata": {}
        }
      ]
    },
    {
      "cell_type": "code",
      "source": [
        "par(mfrow=c(1,2))\n",
        "boxplot(costo)\n",
        "boxplot(anios)"
      ],
      "metadata": {
        "colab": {
          "base_uri": "https://localhost:8080/",
          "height": 437
        },
        "id": "B0l9VSjnOdw5",
        "outputId": "33038fe1-7a90-4c34-81ec-34d32f5d2439"
      },
      "execution_count": null,
      "outputs": [
        {
          "output_type": "display_data",
          "data": {
            "text/plain": [
              "plot without title"
            ],
            "image/png": "[encoded data removed]"
          },
          "metadata": {
            "image/png": {
              "width": 420,
              "height": 420
            }
          }
        }
      ]
    },
    {
      "cell_type": "code",
      "source": [
        "plot(anios,costo)"
      ],
      "metadata": {
        "colab": {
          "base_uri": "https://localhost:8080/",
          "height": 437
        },
        "id": "2X_a0W8FPH3Y",
        "outputId": "a1f9ce1d-e2b9-4299-8fbe-f69f26d19423"
      },
      "execution_count": null,
      "outputs": [
        {
          "output_type": "display_data",
          "data": {
            "text/plain": [
              "plot without title"
            ],
            "image/png": "[encoded data removed]"
          },
          "metadata": {
            "image/png": {
              "width": 420,
              "height": 420
            }
          }
        }
      ]
    },
    {
      "cell_type": "code",
      "source": [
        "#lm(costo~anios)\n",
        " modelo1<-lm(Costo~Anios,data=mtto)"
      ],
      "metadata": {
        "id": "l9Stj24iQvQp"
      },
      "execution_count": null,
      "outputs": []
    },
    {
      "cell_type": "code",
      "source": [
        "modelo1$coefficients[2]"
      ],
      "metadata": {
        "colab": {
          "base_uri": "https://localhost:8080/",
          "height": 34
        },
        "id": "sNxNlJzSSKo3",
        "outputId": "58473cbc-d570-44b7-f1b0-6b5c56a047ae"
      },
      "execution_count": null,
      "outputs": [
        {
          "output_type": "display_data",
          "data": {
            "text/html": [
              "<strong>Anios:</strong> 10.9047619047619"
            ],
            "text/markdown": "**Anios:** 10.9047619047619",
            "text/latex": "\\textbf{Anios:} 10.9047619047619",
            "text/plain": [
              "   Anios \n",
              "10.90476 "
            ]
          },
          "metadata": {}
        }
      ]
    },
    {
      "cell_type": "code",
      "source": [
        "modelo1$fitted.values"
      ],
      "metadata": {
        "colab": {
          "base_uri": "https://localhost:8080/",
          "height": 52
        },
        "id": "vFClHBTNSrIr",
        "outputId": "36a0a366-f0c3-4c81-f301-163cc20cfa3e"
      },
      "execution_count": null,
      "outputs": [
        {
          "output_type": "display_data",
          "data": {
            "text/html": [
              "<style>\n",
              ".dl-inline {width: auto; margin:0; padding: 0}\n",
              ".dl-inline>dt, .dl-inline>dd {float: none; width: auto; display: inline-block}\n",
              ".dl-inline>dt::after {content: \":\\0020\"; padding-right: .5ex}\n",
              ".dl-inline>dt:not(:first-of-type) {padding-left: .5ex}\n",
              "</style><dl class=dl-inline><dt>1</dt><dd>145.152380952381</dd><dt>2</dt><dd>123.342857142857</dd><dt>3</dt><dd>134.247619047619</dd><dt>4</dt><dd>156.057142857143</dd><dt>5</dt><dd>123.342857142857</dd><dt>6</dt><dd>134.247619047619</dd><dt>7</dt><dd>145.152380952381</dd><dt>8</dt><dd>156.057142857143</dd><dt>9</dt><dd>145.152380952381</dd><dt>10</dt><dd>134.247619047619</dd></dl>\n"
            ],
            "text/markdown": "1\n:   145.1523809523812\n:   123.3428571428573\n:   134.2476190476194\n:   156.0571428571435\n:   123.3428571428576\n:   134.2476190476197\n:   145.1523809523818\n:   156.0571428571439\n:   145.15238095238110\n:   134.247619047619\n\n",
            "text/latex": "\\begin{description*}\n\\item[1] 145.152380952381\n\\item[2] 123.342857142857\n\\item[3] 134.247619047619\n\\item[4] 156.057142857143\n\\item[5] 123.342857142857\n\\item[6] 134.247619047619\n\\item[7] 145.152380952381\n\\item[8] 156.057142857143\n\\item[9] 145.152380952381\n\\item[10] 134.247619047619\n\\end{description*}\n",
            "text/plain": [
              "       1        2        3        4        5        6        7        8 \n",
              "145.1524 123.3429 134.2476 156.0571 123.3429 134.2476 145.1524 156.0571 \n",
              "       9       10 \n",
              "145.1524 134.2476 "
            ]
          },
          "metadata": {}
        }
      ]
    },
    {
      "cell_type": "markdown",
      "source": [
        "$ \\hat{y}$ = $\\hat{β_{0}}$ + $\\hat{β_{1}}x+e $ \\\n",
        "$ \\hat{y_i} = 101.5 + 10.9x_i+e_i $"
      ],
      "metadata": {
        "id": "6xA6xHgkTGlU"
      }
    },
    {
      "cell_type": "code",
      "source": [
        "#Obtener valores predichos (y gorro)\n",
        "predichos<-modelo1$coefficients[1]+modelo1$coefficients[2]*mtto$Anios\n",
        "#modelo1$fitted.values\n",
        "#predichos\n",
        "#costo-predichos #Residuales\n",
        "#modelo1$residuals"
      ],
      "metadata": {
        "colab": {
          "base_uri": "https://localhost:8080/",
          "height": 86
        },
        "id": "UVgiYtDrSwrd",
        "outputId": "f59e21a2-3363-4c4b-8d9f-210ce4e20131"
      },
      "execution_count": null,
      "outputs": [
        {
          "output_type": "display_data",
          "data": {
            "text/html": [
              "<style>\n",
              ".dl-inline {width: auto; margin:0; padding: 0}\n",
              ".dl-inline>dt, .dl-inline>dd {float: none; width: auto; display: inline-block}\n",
              ".dl-inline>dt::after {content: \":\\0020\"; padding-right: .5ex}\n",
              ".dl-inline>dt:not(:first-of-type) {padding-left: .5ex}\n",
              "</style><dl class=dl-inline><dt>1</dt><dd>145.152380952381</dd><dt>2</dt><dd>123.342857142857</dd><dt>3</dt><dd>134.247619047619</dd><dt>4</dt><dd>156.057142857143</dd><dt>5</dt><dd>123.342857142857</dd><dt>6</dt><dd>134.247619047619</dd><dt>7</dt><dd>145.152380952381</dd><dt>8</dt><dd>156.057142857143</dd><dt>9</dt><dd>145.152380952381</dd><dt>10</dt><dd>134.247619047619</dd></dl>\n"
            ],
            "text/markdown": "1\n:   145.1523809523812\n:   123.3428571428573\n:   134.2476190476194\n:   156.0571428571435\n:   123.3428571428576\n:   134.2476190476197\n:   145.1523809523818\n:   156.0571428571439\n:   145.15238095238110\n:   134.247619047619\n\n",
            "text/latex": "\\begin{description*}\n\\item[1] 145.152380952381\n\\item[2] 123.342857142857\n\\item[3] 134.247619047619\n\\item[4] 156.057142857143\n\\item[5] 123.342857142857\n\\item[6] 134.247619047619\n\\item[7] 145.152380952381\n\\item[8] 156.057142857143\n\\item[9] 145.152380952381\n\\item[10] 134.247619047619\n\\end{description*}\n",
            "text/plain": [
              "       1        2        3        4        5        6        7        8 \n",
              "145.1524 123.3429 134.2476 156.0571 123.3429 134.2476 145.1524 156.0571 \n",
              "       9       10 \n",
              "145.1524 134.2476 "
            ]
          },
          "metadata": {}
        },
        {
          "output_type": "display_data",
          "data": {
            "text/html": [
              "<style>\n",
              ".list-inline {list-style: none; margin:0; padding: 0}\n",
              ".list-inline>li {display: inline-block}\n",
              ".list-inline>li:not(:last-child)::after {content: \"\\00b7\"; padding: 0 .5ex}\n",
              "</style>\n",
              "<ol class=list-inline><li>145.152380952381</li><li>123.342857142857</li><li>134.247619047619</li><li>156.057142857143</li><li>123.342857142857</li><li>134.247619047619</li><li>145.152380952381</li><li>156.057142857143</li><li>145.152380952381</li><li>134.247619047619</li></ol>\n"
            ],
            "text/markdown": "1. 145.152380952381\n2. 123.342857142857\n3. 134.247619047619\n4. 156.057142857143\n5. 123.342857142857\n6. 134.247619047619\n7. 145.152380952381\n8. 156.057142857143\n9. 145.152380952381\n10. 134.247619047619\n\n\n",
            "text/latex": "\\begin{enumerate*}\n\\item 145.152380952381\n\\item 123.342857142857\n\\item 134.247619047619\n\\item 156.057142857143\n\\item 123.342857142857\n\\item 134.247619047619\n\\item 145.152380952381\n\\item 156.057142857143\n\\item 145.152380952381\n\\item 134.247619047619\n\\end{enumerate*}\n",
            "text/plain": [
              " [1] 145.1524 123.3429 134.2476 156.0571 123.3429 134.2476 145.1524 156.0571\n",
              " [9] 145.1524 134.2476"
            ]
          },
          "metadata": {}
        }
      ]
    },
    {
      "cell_type": "code",
      "source": [
        "plot(anios,costo,xlim=c(0.2,5.3),ylim=c(99,161))\n",
        "#plot(seq(2,5,0.05),predichosfinos,type = \"l\",col=\"red\",add=TRUE)\n",
        "abline(a=modelo1$coefficients[1],b=modelo1$coefficients[2],col=\"red\")\n",
        "abline(a=100,b=modelo1$coefficients[2],col=\"blue\")\n",
        "abline(a=modelo1$coefficients[1],b=10.2,col=\"black\")\n",
        "abline(a=100,b=10.2,col=\"brown\")\n",
        "#predichosfinos<-modelo1$coefficients[1]+modelo1$coefficients[2]*seq(2,5,0.05)\n",
        "\n"
      ],
      "metadata": {
        "colab": {
          "base_uri": "https://localhost:8080/",
          "height": 437
        },
        "id": "eDUCeZAjVqVF",
        "outputId": "f91d5456-e48b-47ac-aca0-a389ea3de374"
      },
      "execution_count": null,
      "outputs": [
        {
          "output_type": "display_data",
          "data": {
            "text/plain": [
              "plot without title"
            ],
            "image/png": "[encoded data removed]"
          },
          "metadata": {
            "image/png": {
              "width": 420,
              "height": 420
            }
          }
        }
      ]
    },
    {
      "cell_type": "code",
      "source": [
        "sum((costo-(100+modelo1$coefficients[2]*mtto$Anios))^2)\n",
        "sum((costo-(modelo1$coefficients[1]+10.2*mtto$Anios))^2)\n",
        "sum((costo-(100+10.2*mtto$Anios))^2)"
      ],
      "metadata": {
        "colab": {
          "base_uri": "https://localhost:8080/",
          "height": 69
        },
        "id": "VdC13LBhgWFT",
        "outputId": "ee9118f5-d894-411a-fbb6-3908bdb65fe4"
      },
      "execution_count": null,
      "outputs": [
        {
          "output_type": "display_data",
          "data": {
            "text/html": [
              "279.015873015873"
            ],
            "text/markdown": "279.015873015873",
            "text/latex": "279.015873015873",
            "text/plain": [
              "[1] 279.0159"
            ]
          },
          "metadata": {}
        },
        {
          "output_type": "display_data",
          "data": {
            "text/html": [
              "321.564444444445"
            ],
            "text/markdown": "321.564444444445",
            "text/latex": "321.564444444445",
            "text/plain": [
              "[1] 321.5644"
            ]
          },
          "metadata": {}
        },
        {
          "output_type": "display_data",
          "data": {
            "text/html": [
              "420.72"
            ],
            "text/markdown": "420.72",
            "text/latex": "420.72",
            "text/plain": [
              "[1] 420.72"
            ]
          },
          "metadata": {}
        }
      ]
    },
    {
      "cell_type": "code",
      "source": [
        "sum((costo-predichos)^2) #De minimos cuadrados"
      ],
      "metadata": {
        "colab": {
          "base_uri": "https://localhost:8080/",
          "height": 34
        },
        "id": "wy48mx3zW6bi",
        "outputId": "4c793598-fed8-4f55-bbaf-a08931c2e896"
      },
      "execution_count": null,
      "outputs": [
        {
          "output_type": "display_data",
          "data": {
            "text/html": [
              "255.504761904762"
            ],
            "text/markdown": "255.504761904762",
            "text/latex": "255.504761904762",
            "text/plain": [
              "[1] 255.5048"
            ]
          },
          "metadata": {}
        }
      ]
    },
    {
      "cell_type": "code",
      "source": [
        "poblacion<-c(2,6,8,8,12,16,20,20,22,26)\n",
        "ventas<-c(58,105,88,118,117,137,157,169,149,202)\n",
        "pizzas<-data.frame(Poblacion = poblacion, Ventas = ventas)"
      ],
      "metadata": {
        "id": "ceI9ihYogMOS"
      },
      "execution_count": null,
      "outputs": []
    },
    {
      "cell_type": "code",
      "source": [
        "summary(pizzas)\n",
        "plot(pizzas$Poblacion,pizzas$Ventas)"
      ],
      "metadata": {
        "colab": {
          "base_uri": "https://localhost:8080/",
          "height": 558
        },
        "id": "ES1ou7VFlcKz",
        "outputId": "adb5e425-80dc-482e-a29d-966ec1a43020"
      },
      "execution_count": null,
      "outputs": [
        {
          "output_type": "display_data",
          "data": {
            "text/plain": [
              "   Poblacion      Ventas     \n",
              " Min.   : 2   Min.   : 58.0  \n",
              " 1st Qu.: 8   1st Qu.:108.0  \n",
              " Median :14   Median :127.5  \n",
              " Mean   :14   Mean   :130.0  \n",
              " 3rd Qu.:20   3rd Qu.:155.0  \n",
              " Max.   :26   Max.   :202.0  "
            ]
          },
          "metadata": {}
        },
        {
          "output_type": "display_data",
          "data": {
            "text/plain": [
              "plot without title"
            ],
            "image/png": "[encoded data removed]"
          },
          "metadata": {
            "image/png": {
              "width": 420,
              "height": 420
            }
          }
        }
      ]
    },
    {
      "cell_type": "code",
      "source": [
        "modelo2<-lm(Ventas~Poblacion,data=pizzas)\n",
        "modelo2"
      ],
      "metadata": {
        "colab": {
          "base_uri": "https://localhost:8080/",
          "height": 138
        },
        "id": "S1h13-pXmMUn",
        "outputId": "1c196373-ab2c-404c-f4f9-839aa045d2ff"
      },
      "execution_count": null,
      "outputs": [
        {
          "output_type": "display_data",
          "data": {
            "text/plain": [
              "\n",
              "Call:\n",
              "lm(formula = Ventas ~ Poblacion, data = pizzas)\n",
              "\n",
              "Coefficients:\n",
              "(Intercept)    Poblacion  \n",
              "         60            5  \n"
            ]
          },
          "metadata": {}
        }
      ]
    },
    {
      "cell_type": "code",
      "source": [
        "plot(pizzas$Poblacion,pizzas$Ventas)\n",
        "abline(a=modelo2$coefficients[1],b=modelo2$coefficients[2],col=\"red\")"
      ],
      "metadata": {
        "colab": {
          "base_uri": "https://localhost:8080/",
          "height": 437
        },
        "id": "8S3NocPimp-P",
        "outputId": "f3d90327-f19c-480c-8fa5-199b5ff87fc0"
      },
      "execution_count": null,
      "outputs": [
        {
          "output_type": "display_data",
          "data": {
            "text/plain": [
              "plot without title"
            ],
            "image/png": "[encoded data removed]"
          },
          "metadata": {
            "image/png": {
              "width": 420,
              "height": 420
            }
          }
        }
      ]
    },
    {
      "cell_type": "code",
      "source": [
        "summary(modelo2)"
      ],
      "metadata": {
        "colab": {
          "base_uri": "https://localhost:8080/",
          "height": 245
        },
        "id": "WFEcgbv1nM6w",
        "outputId": "4ad8a10f-db19-43b3-9467-5938a8dd8d62"
      },
      "execution_count": null,
      "outputs": [
        {
          "output_type": "error",
          "ename": "ERROR",
          "evalue": "Error: object 'modelo2' not found\n",
          "traceback": [
            "Error: object 'modelo2' not found\nTraceback:\n",
            "1. .handleSimpleError(function (cnd) \n . {\n .     watcher$capture_plot_and_output()\n .     cnd <- sanitize_call(cnd)\n .     watcher$push(cnd)\n .     switch(on_error, continue = invokeRestart(\"eval_continue\"), \n .         stop = invokeRestart(\"eval_stop\"), error = invokeRestart(\"eval_error\", \n .             cnd))\n . }, \"object 'modelo2' not found\", base::quote(eval(expr, envir)))"
          ]
        }
      ]
    },
    {
      "cell_type": "code",
      "source": [
        "confint(modelo2,level=0.95)"
      ],
      "metadata": {
        "colab": {
          "base_uri": "https://localhost:8080/",
          "height": 129
        },
        "id": "Uyv4qCy0nc4M",
        "outputId": "33d758e9-b8cf-44e0-fc00-e09b33368987"
      },
      "execution_count": null,
      "outputs": [
        {
          "output_type": "display_data",
          "data": {
            "text/html": [
              "<table class=\"dataframe\">\n",
              "<caption>A matrix: 2 × 2 of type dbl</caption>\n",
              "<thead>\n",
              "\t<tr><th></th><th scope=col>2.5 %</th><th scope=col>97.5 %</th></tr>\n",
              "</thead>\n",
              "<tbody>\n",
              "\t<tr><th scope=row>(Intercept)</th><td>38.724726</td><td>81.275274</td></tr>\n",
              "\t<tr><th scope=row>Poblacion</th><td> 3.661906</td><td> 6.338094</td></tr>\n",
              "</tbody>\n",
              "</table>\n"
            ],
            "text/markdown": "\nA matrix: 2 × 2 of type dbl\n\n| <!--/--> | 2.5 % | 97.5 % |\n|---|---|---|\n| (Intercept) | 38.724726 | 81.275274 |\n| Poblacion |  3.661906 |  6.338094 |\n\n",
            "text/latex": "A matrix: 2 × 2 of type dbl\n\\begin{tabular}{r|ll}\n  & 2.5 \\% & 97.5 \\%\\\\\n\\hline\n\t(Intercept) & 38.724726 & 81.275274\\\\\n\tPoblacion &  3.661906 &  6.338094\\\\\n\\end{tabular}\n",
            "text/plain": [
              "            2.5 %     97.5 %   \n",
              "(Intercept) 38.724726 81.275274\n",
              "Poblacion    3.661906  6.338094"
            ]
          },
          "metadata": {}
        }
      ]
    },
    {
      "cell_type": "markdown",
      "source": [
        "El intercepto población se encuentra entre 38.72 y 81.27 (con un nivel de confianza al 95%). Dado que este intervalo no contiene el valor de 0, no es probable que el parámetro poblacional sea 0, por lo que el interpto poblacional se encuentra entre los valores antes mencionados.  \\\n",
        "\n",
        "En cuanto a $\\beta_{1}$, su intervalo de confianza al 95% va de 3.66 a 6.33, tampoco contiene el valor de cero. Lo anterior indica que no es probable que el parámetro poblacional sea 0, así que sí hay una relación entre el tamaño de la población y el ingreso de la pizzería. Se espera que por cada unidad de población (mil estudiantes), se incrementen los ingresos en **cinco unidades** (ver valor de $\\hat{β_1}$). Por otro lado, si hubiera contenido el intervalo el valor de cero, ahí sí hubiera existido la posibildiad de que el valor del parámetro fuese cero, por lo que era probable que no se determinar el monto de ventas dado el tamaño poblacional de la escuela."
      ],
      "metadata": {
        "id": "nbeE-_ran2-s"
      }
    },
    {
      "cell_type": "markdown",
      "source": [
        "### Ejemplo de Costo-Años de la maquinaria (hacer los intervalos de confianza)"
      ],
      "metadata": {
        "id": "RKOp07vADcvr"
      }
    },
    {
      "cell_type": "code",
      "source": [
        "confint(modelo1,level=0.95)"
      ],
      "metadata": {
        "colab": {
          "base_uri": "https://localhost:8080/",
          "height": 129
        },
        "id": "NCMRGf41DceL",
        "outputId": "298f8877-7f6d-4b57-bf39-d2d5538664a1"
      },
      "execution_count": null,
      "outputs": [
        {
          "output_type": "display_data",
          "data": {
            "text/html": [
              "<table class=\"dataframe\">\n",
              "<caption>A matrix: 2 × 2 of type dbl</caption>\n",
              "<thead>\n",
              "\t<tr><th></th><th scope=col>2.5 %</th><th scope=col>97.5 %</th></tr>\n",
              "</thead>\n",
              "<tbody>\n",
              "\t<tr><th scope=row>(Intercept)</th><td>86.866182</td><td>116.20048</td></tr>\n",
              "\t<tr><th scope=row>Anios</th><td> 6.882967</td><td> 14.92656</td></tr>\n",
              "</tbody>\n",
              "</table>\n"
            ],
            "text/markdown": "\nA matrix: 2 × 2 of type dbl\n\n| <!--/--> | 2.5 % | 97.5 % |\n|---|---|---|\n| (Intercept) | 86.866182 | 116.20048 |\n| Anios |  6.882967 |  14.92656 |\n\n",
            "text/latex": "A matrix: 2 × 2 of type dbl\n\\begin{tabular}{r|ll}\n  & 2.5 \\% & 97.5 \\%\\\\\n\\hline\n\t(Intercept) & 86.866182 & 116.20048\\\\\n\tAnios &  6.882967 &  14.92656\\\\\n\\end{tabular}\n",
            "text/plain": [
              "            2.5 %     97.5 %   \n",
              "(Intercept) 86.866182 116.20048\n",
              "Anios        6.882967  14.92656"
            ]
          },
          "metadata": {}
        }
      ]
    },
    {
      "cell_type": "markdown",
      "source": [
        "Ninguno de los dos intervalos de confianza incluye el valor de **0**. Como el intervalo de la variable $X$ (años), no incluye dicho valor, podemos concluir que la variable *Años* sí ayuda a la explicación del comportamiento de la variable *Costo*. \\\n",
        "* ¿En qué medida contribuye? \\\n",
        "* ¿Cuánta de la variabilidad es explicada por esta variable? \\\n",
        "* ¿Y si agregamos más variables se podría mejorar esa 'explicación' del costo?"
      ],
      "metadata": {
        "id": "_yFWgiiSWonc"
      }
    },
    {
      "cell_type": "code",
      "source": [
        "aov(modelo1) #aov = análisis de varianza (descomposición de la variabilidad)\n",
        "SCT=1248.5952+255.5048\n",
        "1248.5952/SCT\n",
        "255.5048/SCT\n",
        "round(1-(255.5048/SCT),4)*100"
      ],
      "metadata": {
        "colab": {
          "base_uri": "https://localhost:8080/",
          "height": 243
        },
        "id": "BVSqAPN4YH43",
        "outputId": "0056d935-8434-44ee-e71b-ddc7af139f0b"
      },
      "execution_count": null,
      "outputs": [
        {
          "output_type": "display_data",
          "data": {
            "text/plain": [
              "Call:\n",
              "   aov(formula = modelo1)\n",
              "\n",
              "Terms:\n",
              "                    Anios Residuals\n",
              "Sum of Squares  1248.5952  255.5048\n",
              "Deg. of Freedom         1         8\n",
              "\n",
              "Residual standard error: 5.65138\n",
              "Estimated effects may be unbalanced"
            ]
          },
          "metadata": {}
        },
        {
          "output_type": "display_data",
          "data": {
            "text/html": [
              "0.830127784056911"
            ],
            "text/markdown": "0.830127784056911",
            "text/latex": "0.830127784056911",
            "text/plain": [
              "[1] 0.8301278"
            ]
          },
          "metadata": {}
        },
        {
          "output_type": "display_data",
          "data": {
            "text/html": [
              "0.169872215943089"
            ],
            "text/markdown": "0.169872215943089",
            "text/latex": "0.169872215943089",
            "text/plain": [
              "[1] 0.1698722"
            ]
          },
          "metadata": {}
        },
        {
          "output_type": "display_data",
          "data": {
            "text/html": [
              "83.01"
            ],
            "text/markdown": "83.01",
            "text/latex": "83.01",
            "text/plain": [
              "[1] 83.01"
            ]
          },
          "metadata": {}
        }
      ]
    },
    {
      "cell_type": "code",
      "source": [
        "Festimada<-(1248.5952/1)/(255.5048/8)\n",
        "Festimada"
      ],
      "metadata": {
        "colab": {
          "base_uri": "https://localhost:8080/",
          "height": 34
        },
        "id": "4d9IfPZjd4HF",
        "outputId": "61e85271-5999-4c76-eeb2-a58bab4d487e"
      },
      "execution_count": null,
      "outputs": [
        {
          "output_type": "display_data",
          "data": {
            "text/html": [
              "39.0942228873978"
            ],
            "text/markdown": "39.0942228873978",
            "text/latex": "39.0942228873978",
            "text/plain": [
              "[1] 39.09422"
            ]
          },
          "metadata": {}
        }
      ]
    },
    {
      "cell_type": "code",
      "source": [
        "qf(0.05,1,8,lower.tail = FALSE)"
      ],
      "metadata": {
        "colab": {
          "base_uri": "https://localhost:8080/",
          "height": 34
        },
        "id": "4Z0A8F2efWz-",
        "outputId": "76d94ed9-9fba-453f-fbf4-30fca11dbd9c"
      },
      "execution_count": null,
      "outputs": [
        {
          "output_type": "display_data",
          "data": {
            "text/html": [
              "5.31765507157871"
            ],
            "text/markdown": "5.31765507157871",
            "text/latex": "5.31765507157871",
            "text/plain": [
              "[1] 5.317655"
            ]
          },
          "metadata": {}
        }
      ]
    },
    {
      "cell_type": "markdown",
      "source": [
        "ifelse()"
      ],
      "metadata": {
        "id": "5gV-nbGjfqWS"
      }
    },
    {
      "cell_type": "code",
      "source": [
        "ifelse(Festimada>=qf(0.05,1,8,lower.tail = FALSE),\"Rechazar Ho\",\"No rechazar Ho\")"
      ],
      "metadata": {
        "colab": {
          "base_uri": "https://localhost:8080/",
          "height": 34
        },
        "id": "pVIp2Fy_fvSj",
        "outputId": "939e211f-2f78-4510-8711-afe0cbd708f5"
      },
      "execution_count": null,
      "outputs": [
        {
          "output_type": "display_data",
          "data": {
            "text/html": [
              "'Rechazar Ho'"
            ],
            "text/markdown": "'Rechazar Ho'",
            "text/latex": "'Rechazar Ho'",
            "text/plain": [
              "[1] \"Rechazar Ho\""
            ]
          },
          "metadata": {}
        }
      ]
    },
    {
      "cell_type": "code",
      "source": [
        "#pizzas #modelo2\n",
        "aov(modelo2)\n",
        "#summary(modelo2)"
      ],
      "metadata": {
        "colab": {
          "base_uri": "https://localhost:8080/",
          "height": 191
        },
        "id": "UCQ1w2bBg7Dr",
        "outputId": "c32f1327-824f-4599-d91e-be6291508782"
      },
      "execution_count": null,
      "outputs": [
        {
          "output_type": "display_data",
          "data": {
            "text/plain": [
              "Call:\n",
              "   aov(formula = modelo2)\n",
              "\n",
              "Terms:\n",
              "                Poblacion Residuals\n",
              "Sum of Squares      14200      1530\n",
              "Deg. of Freedom         1         8\n",
              "\n",
              "Residual standard error: 13.82932\n",
              "Estimated effects may be unbalanced"
            ]
          },
          "metadata": {}
        }
      ]
    },
    {
      "cell_type": "code",
      "source": [
        "anova(modelo2)"
      ],
      "metadata": {
        "colab": {
          "base_uri": "https://localhost:8080/",
          "height": 160
        },
        "id": "4KoLUbhDiXn5",
        "outputId": "7c927c68-12ef-4a0a-c696-084b40641784"
      },
      "execution_count": null,
      "outputs": [
        {
          "output_type": "display_data",
          "data": {
            "text/html": [
              "<table class=\"dataframe\">\n",
              "<caption>A anova: 2 × 5</caption>\n",
              "<thead>\n",
              "\t<tr><th></th><th scope=col>Df</th><th scope=col>Sum Sq</th><th scope=col>Mean Sq</th><th scope=col>F value</th><th scope=col>Pr(&gt;F)</th></tr>\n",
              "\t<tr><th></th><th scope=col>&lt;int&gt;</th><th scope=col>&lt;dbl&gt;</th><th scope=col>&lt;dbl&gt;</th><th scope=col>&lt;dbl&gt;</th><th scope=col>&lt;dbl&gt;</th></tr>\n",
              "</thead>\n",
              "<tbody>\n",
              "\t<tr><th scope=row>Poblacion</th><td>1</td><td>14200</td><td>14200.00</td><td>74.24837</td><td>2.548866e-05</td></tr>\n",
              "\t<tr><th scope=row>Residuals</th><td>8</td><td> 1530</td><td>  191.25</td><td>      NA</td><td>          NA</td></tr>\n",
              "</tbody>\n",
              "</table>\n"
            ],
            "text/markdown": "\nA anova: 2 × 5\n\n| <!--/--> | Df &lt;int&gt; | Sum Sq &lt;dbl&gt; | Mean Sq &lt;dbl&gt; | F value &lt;dbl&gt; | Pr(&gt;F) &lt;dbl&gt; |\n|---|---|---|---|---|---|\n| Poblacion | 1 | 14200 | 14200.00 | 74.24837 | 2.548866e-05 |\n| Residuals | 8 |  1530 |   191.25 |       NA |           NA |\n\n",
            "text/latex": "A anova: 2 × 5\n\\begin{tabular}{r|lllll}\n  & Df & Sum Sq & Mean Sq & F value & Pr(>F)\\\\\n  & <int> & <dbl> & <dbl> & <dbl> & <dbl>\\\\\n\\hline\n\tPoblacion & 1 & 14200 & 14200.00 & 74.24837 & 2.548866e-05\\\\\n\tResiduals & 8 &  1530 &   191.25 &       NA &           NA\\\\\n\\end{tabular}\n",
            "text/plain": [
              "          Df Sum Sq Mean Sq  F value  Pr(>F)      \n",
              "Poblacion 1  14200  14200.00 74.24837 2.548866e-05\n",
              "Residuals 8   1530    191.25       NA           NA"
            ]
          },
          "metadata": {}
        }
      ]
    },
    {
      "cell_type": "code",
      "source": [
        "14200/(14200+1530)"
      ],
      "metadata": {
        "colab": {
          "base_uri": "https://localhost:8080/",
          "height": 34
        },
        "id": "DC-tOYBQit2e",
        "outputId": "656bc868-f644-463c-868c-3aba47584f8b"
      },
      "execution_count": null,
      "outputs": [
        {
          "output_type": "display_data",
          "data": {
            "text/html": [
              "0.902733630006357"
            ],
            "text/markdown": "0.902733630006357",
            "text/latex": "0.902733630006357",
            "text/plain": [
              "[1] 0.9027336"
            ]
          },
          "metadata": {}
        }
      ]
    },
    {
      "cell_type": "code",
      "source": [
        "15730*.65"
      ],
      "metadata": {
        "colab": {
          "base_uri": "https://localhost:8080/",
          "height": 34
        },
        "id": "X2sF9PITm1VJ",
        "outputId": "6ceb162d-7265-4511-fae6-4d198f51b1ee"
      },
      "execution_count": null,
      "outputs": [
        {
          "output_type": "display_data",
          "data": {
            "text/html": [
              "10224.5"
            ],
            "text/markdown": "10224.5",
            "text/latex": "10224.5",
            "text/plain": [
              "[1] 10224.5"
            ]
          },
          "metadata": {}
        }
      ]
    },
    {
      "cell_type": "code",
      "source": [
        "#14200/(1530/8) #F calculado = 5.30 F_calc < F_alfa\n",
        "#15,730 = 7865(SCR) + 7865(SCE)\n",
        "#65% es del error, 35% es de la regresión\n",
        "Fcalculado<-5505.5/(10224.5/8) #(T*x/(T*(1-x)/8))=5.31\n",
        "Fcalculado"
      ],
      "metadata": {
        "colab": {
          "base_uri": "https://localhost:8080/",
          "height": 34
        },
        "id": "hDvl8k6Si6is",
        "outputId": "9ee97b32-f14a-4420-faaa-e60cda419823"
      },
      "execution_count": null,
      "outputs": [
        {
          "output_type": "display_data",
          "data": {
            "text/html": [
              "4.30769230769231"
            ],
            "text/markdown": "4.30769230769231",
            "text/latex": "4.30769230769231",
            "text/plain": [
              "[1] 4.307692"
            ]
          },
          "metadata": {}
        }
      ]
    },
    {
      "cell_type": "code",
      "source": [],
      "metadata": {
        "id": "n5Of7u5xoldT"
      },
      "execution_count": null,
      "outputs": []
    },
    {
      "cell_type": "code",
      "source": [
        "ifelse(Fcalculado>=qf(0.05,1,8,lower.tail = FALSE),\"H1\",\"Ho\") # F de alfa"
      ],
      "metadata": {
        "colab": {
          "base_uri": "https://localhost:8080/",
          "height": 34
        },
        "id": "GPHZFbSwjMX1",
        "outputId": "b9ac6472-056c-4452-abf3-0ee42aa62329"
      },
      "execution_count": null,
      "outputs": [
        {
          "output_type": "display_data",
          "data": {
            "text/html": [
              "'Ho'"
            ],
            "text/markdown": "'Ho'",
            "text/latex": "'Ho'",
            "text/plain": [
              "[1] \"Ho\""
            ]
          },
          "metadata": {}
        }
      ]
    },
    {
      "cell_type": "markdown",
      "source": [
        "¿A qué punto podemos comenza a no rechazar $H_{0}$? Esto es, ¿en qué punto el $F$ calculado se vuelve menor a $F_{\\alpha , 1,n-2}?$ Sabiendo que $SCT = 15,730$ Calcular el coeficiente de determinación $R^2$ cuando esa condición se cumple."
      ],
      "metadata": {
        "id": "c2g7JYMajuuQ"
      }
    },
    {
      "cell_type": "code",
      "source": [
        "qf(0.05,1,8,lower.tail = FALSE)"
      ],
      "metadata": {
        "colab": {
          "base_uri": "https://localhost:8080/",
          "height": 34
        },
        "id": "nqVGcmhZlguv",
        "outputId": "69ca8290-1ee5-4d95-984e-71dcc5cb3b56"
      },
      "execution_count": null,
      "outputs": [
        {
          "output_type": "display_data",
          "data": {
            "text/html": [
              "5.31765507157871"
            ],
            "text/markdown": "5.31765507157871",
            "text/latex": "5.31765507157871",
            "text/plain": [
              "[1] 5.317655"
            ]
          },
          "metadata": {}
        }
      ]
    },
    {
      "cell_type": "markdown",
      "source": [
        "# REGRESIÓN LINEAL MÚLTIPLE"
      ],
      "metadata": {
        "id": "96JT9ka0yTWA"
      }
    },
    {
      "cell_type": "code",
      "source": [
        "tamanio<-c(18,20,25,22,33,19,17)\n",
        "recamaras<-c(3,3,4,4,5,4,3)\n",
        "precio<-c(80,95,104,110,175,85,89)\n",
        "casas<-data.frame(Tamanio=tamanio,Recamaras=recamaras,Precio=precio)"
      ],
      "metadata": {
        "id": "OO4IhxhvyWnJ"
      },
      "execution_count": null,
      "outputs": []
    },
    {
      "cell_type": "code",
      "source": [
        "dim(casas)"
      ],
      "metadata": {
        "colab": {
          "base_uri": "https://localhost:8080/",
          "height": 34
        },
        "id": "S00RG0ScyyOh",
        "outputId": "224b5f4b-43a9-42a6-cba7-5a88e4ab092d"
      },
      "execution_count": null,
      "outputs": [
        {
          "output_type": "display_data",
          "data": {
            "text/html": [
              "<style>\n",
              ".list-inline {list-style: none; margin:0; padding: 0}\n",
              ".list-inline>li {display: inline-block}\n",
              ".list-inline>li:not(:last-child)::after {content: \"\\00b7\"; padding: 0 .5ex}\n",
              "</style>\n",
              "<ol class=list-inline><li>7</li><li>3</li></ol>\n"
            ],
            "text/markdown": "1. 7\n2. 3\n\n\n",
            "text/latex": "\\begin{enumerate*}\n\\item 7\n\\item 3\n\\end{enumerate*}\n",
            "text/plain": [
              "[1] 7 3"
            ]
          },
          "metadata": {}
        }
      ]
    },
    {
      "cell_type": "code",
      "source": [
        "disenio<-data.frame(Unos=rep(1,7),Recamaras=casas$Recamaras,Tamanio=casas$Tamanio)\n",
        "disenio #equis\n",
        "disenio2<-as.matrix(disenio)"
      ],
      "metadata": {
        "colab": {
          "base_uri": "https://localhost:8080/",
          "height": 318
        },
        "id": "Og8nS00by9WF",
        "outputId": "256ddd6c-dec9-4def-93d3-f7382ec2701c"
      },
      "execution_count": null,
      "outputs": [
        {
          "output_type": "display_data",
          "data": {
            "text/html": [
              "<table class=\"dataframe\">\n",
              "<caption>A data.frame: 7 × 3</caption>\n",
              "<thead>\n",
              "\t<tr><th scope=col>Unos</th><th scope=col>Recamaras</th><th scope=col>Tamanio</th></tr>\n",
              "\t<tr><th scope=col>&lt;dbl&gt;</th><th scope=col>&lt;dbl&gt;</th><th scope=col>&lt;dbl&gt;</th></tr>\n",
              "</thead>\n",
              "<tbody>\n",
              "\t<tr><td>1</td><td>3</td><td>18</td></tr>\n",
              "\t<tr><td>1</td><td>3</td><td>20</td></tr>\n",
              "\t<tr><td>1</td><td>4</td><td>25</td></tr>\n",
              "\t<tr><td>1</td><td>4</td><td>22</td></tr>\n",
              "\t<tr><td>1</td><td>5</td><td>33</td></tr>\n",
              "\t<tr><td>1</td><td>4</td><td>19</td></tr>\n",
              "\t<tr><td>1</td><td>3</td><td>17</td></tr>\n",
              "</tbody>\n",
              "</table>\n"
            ],
            "text/markdown": "\nA data.frame: 7 × 3\n\n| Unos &lt;dbl&gt; | Recamaras &lt;dbl&gt; | Tamanio &lt;dbl&gt; |\n|---|---|---|\n| 1 | 3 | 18 |\n| 1 | 3 | 20 |\n| 1 | 4 | 25 |\n| 1 | 4 | 22 |\n| 1 | 5 | 33 |\n| 1 | 4 | 19 |\n| 1 | 3 | 17 |\n\n",
            "text/latex": "A data.frame: 7 × 3\n\\begin{tabular}{lll}\n Unos & Recamaras & Tamanio\\\\\n <dbl> & <dbl> & <dbl>\\\\\n\\hline\n\t 1 & 3 & 18\\\\\n\t 1 & 3 & 20\\\\\n\t 1 & 4 & 25\\\\\n\t 1 & 4 & 22\\\\\n\t 1 & 5 & 33\\\\\n\t 1 & 4 & 19\\\\\n\t 1 & 3 & 17\\\\\n\\end{tabular}\n",
            "text/plain": [
              "  Unos Recamaras Tamanio\n",
              "1 1    3         18     \n",
              "2 1    3         20     \n",
              "3 1    4         25     \n",
              "4 1    4         22     \n",
              "5 1    5         33     \n",
              "6 1    4         19     \n",
              "7 1    3         17     "
            ]
          },
          "metadata": {}
        }
      ]
    },
    {
      "cell_type": "code",
      "source": [
        "# Estimación de los betas, y su respectivo intervalo de confianza\n",
        "betass<-solve(t(disenio2)%*%disenio2)%*%t(disenio)%*%precio\n",
        "betass"
      ],
      "metadata": {
        "colab": {
          "base_uri": "https://localhost:8080/",
          "height": 128
        },
        "id": "P5BFJTMDP53A",
        "outputId": "6b520ea3-3e76-4c58-f23d-2f6f75cc0f46"
      },
      "execution_count": null,
      "outputs": [
        {
          "output_type": "display_data",
          "data": {
            "text/html": [
              "<table class=\"dataframe\">\n",
              "<caption>A matrix: 3 × 1 of type dbl</caption>\n",
              "<tbody>\n",
              "\t<tr><th scope=row>Unos</th><td>-16.093385</td></tr>\n",
              "\t<tr><th scope=row>Recamaras</th><td> -1.173152</td></tr>\n",
              "\t<tr><th scope=row>Tamanio</th><td>  5.721790</td></tr>\n",
              "</tbody>\n",
              "</table>\n"
            ],
            "text/markdown": "\nA matrix: 3 × 1 of type dbl\n\n| Unos | -16.093385 |\n| Recamaras |  -1.173152 |\n| Tamanio |   5.721790 |\n\n",
            "text/latex": "A matrix: 3 × 1 of type dbl\n\\begin{tabular}{r|l}\n\tUnos & -16.093385\\\\\n\tRecamaras &  -1.173152\\\\\n\tTamanio &   5.721790\\\\\n\\end{tabular}\n",
            "text/plain": [
              "          [,1]      \n",
              "Unos      -16.093385\n",
              "Recamaras  -1.173152\n",
              "Tamanio     5.721790"
            ]
          },
          "metadata": {}
        }
      ]
    },
    {
      "cell_type": "code",
      "source": [
        "SSE2<- t(precio)%*%precio-t(betass)%*%(t(disenio2)%*%precio)\n",
        "SSE2"
      ],
      "metadata": {
        "colab": {
          "base_uri": "https://localhost:8080/",
          "height": 100
        },
        "id": "BjifS6M7SMV5",
        "outputId": "518e0b0d-b2ca-43b9-af5a-2e22d274c827"
      },
      "execution_count": null,
      "outputs": [
        {
          "output_type": "display_data",
          "data": {
            "text/html": [
              "<table class=\"dataframe\">\n",
              "<caption>A matrix: 1 × 1 of type dbl</caption>\n",
              "<tbody>\n",
              "\t<tr><td>572.393</td></tr>\n",
              "</tbody>\n",
              "</table>\n"
            ],
            "text/markdown": "\nA matrix: 1 × 1 of type dbl\n\n| 572.393 |\n\n",
            "text/latex": "A matrix: 1 × 1 of type dbl\n\\begin{tabular}{l}\n\t 572.393\\\\\n\\end{tabular}\n",
            "text/plain": [
              "     [,1]   \n",
              "[1,] 572.393"
            ]
          },
          "metadata": {}
        }
      ]
    },
    {
      "cell_type": "code",
      "source": [
        "MSEE<-SSE2/(nrow(disenio2)-3)\n",
        "MSEE"
      ],
      "metadata": {
        "colab": {
          "base_uri": "https://localhost:8080/",
          "height": 100
        },
        "id": "LHMUueLLSvNq",
        "outputId": "cf769a93-42fb-4038-d57c-adfdf5f45be1"
      },
      "execution_count": null,
      "outputs": [
        {
          "output_type": "display_data",
          "data": {
            "text/html": [
              "<table class=\"dataframe\">\n",
              "<caption>A matrix: 1 × 1 of type dbl</caption>\n",
              "<tbody>\n",
              "\t<tr><td>143.0982</td></tr>\n",
              "</tbody>\n",
              "</table>\n"
            ],
            "text/markdown": "\nA matrix: 1 × 1 of type dbl\n\n| 143.0982 |\n\n",
            "text/latex": "A matrix: 1 × 1 of type dbl\n\\begin{tabular}{l}\n\t 143.0982\\\\\n\\end{tabular}\n",
            "text/plain": [
              "     [,1]    \n",
              "[1,] 143.0982"
            ]
          },
          "metadata": {}
        }
      ]
    },
    {
      "cell_type": "code",
      "source": [
        "modeloo<-lm(Precio~Recamaras+Tamanio,data=casas)\n",
        "modeloo"
      ],
      "metadata": {
        "colab": {
          "base_uri": "https://localhost:8080/",
          "height": 139
        },
        "id": "lEFwIVDRVRYZ",
        "outputId": "2c5501d4-c552-4464-f4f1-d7747a4a040e"
      },
      "execution_count": null,
      "outputs": [
        {
          "output_type": "display_data",
          "data": {
            "text/plain": [
              "\n",
              "Call:\n",
              "lm(formula = Precio ~ Recamaras + Tamanio, data = casas)\n",
              "\n",
              "Coefficients:\n",
              "(Intercept)    Recamaras      Tamanio  \n",
              "    -16.093       -1.173        5.722  \n"
            ]
          },
          "metadata": {}
        }
      ]
    },
    {
      "cell_type": "code",
      "source": [
        "anova_modelo<-anova(modeloo)\n",
        "sct_modelo<-sum(anova_modelo$`Sum Sq`)\n",
        "sct_regre<-sct_modelo-SSE2\n",
        "(sct_regre)/sct_modelo #Coef de determinación"
      ],
      "metadata": {
        "colab": {
          "base_uri": "https://localhost:8080/",
          "height": 83
        },
        "id": "4W4wd3pFV-ZX",
        "outputId": "d5e5e7f3-4394-4fbd-dba4-92a0c4c7dac8"
      },
      "execution_count": null,
      "outputs": [
        {
          "output_type": "display_data",
          "data": {
            "text/html": [
              "<table class=\"dataframe\">\n",
              "<caption>A matrix: 1 × 1 of type dbl</caption>\n",
              "<tbody>\n",
              "\t<tr><td>0.9092263</td></tr>\n",
              "</tbody>\n",
              "</table>\n"
            ],
            "text/markdown": "\nA matrix: 1 × 1 of type dbl\n\n| 0.9092263 |\n\n",
            "text/latex": "A matrix: 1 × 1 of type dbl\n\\begin{tabular}{l}\n\t 0.9092263\\\\\n\\end{tabular}\n",
            "text/plain": [
              "     [,1]     \n",
              "[1,] 0.9092263"
            ]
          },
          "metadata": {}
        }
      ]
    },
    {
      "cell_type": "code",
      "source": [
        "summary(modeloo)\n"
      ],
      "metadata": {
        "id": "q2-4Kw4eYm7_",
        "colab": {
          "base_uri": "https://localhost:8080/",
          "height": 347
        },
        "outputId": "af4d36ed-eff0-486b-eb71-09589abbfc5d"
      },
      "execution_count": null,
      "outputs": [
        {
          "output_type": "display_data",
          "data": {
            "text/plain": [
              "\n",
              "Call:\n",
              "lm(formula = Precio ~ Recamaras + Tamanio, data = casas)\n",
              "\n",
              "Residuals:\n",
              "      1       2       3       4       5       6       7 \n",
              " -3.379   0.177 -18.259   4.907   8.140  -2.928  11.342 \n",
              "\n",
              "Coefficients:\n",
              "            Estimate Std. Error t value Pr(>|t|)  \n",
              "(Intercept)  -16.093     24.647  -0.653   0.5494  \n",
              "Recamaras     -1.173     13.390  -0.088   0.9344  \n",
              "Tamanio        5.722      1.828   3.130   0.0352 *\n",
              "---\n",
              "Signif. codes:  0 ‘***’ 0.001 ‘**’ 0.01 ‘*’ 0.05 ‘.’ 0.1 ‘ ’ 1\n",
              "\n",
              "Residual standard error: 11.96 on 4 degrees of freedom\n",
              "Multiple R-squared:  0.9092,\tAdjusted R-squared:  0.8638 \n",
              "F-statistic: 20.03 on 2 and 4 DF,  p-value: 0.00824\n"
            ]
          },
          "metadata": {}
        }
      ]
    },
    {
      "cell_type": "code",
      "source": [
        "confint(modeloo)"
      ],
      "metadata": {
        "colab": {
          "base_uri": "https://localhost:8080/",
          "height": 161
        },
        "id": "vvcmlDTFZJpS",
        "outputId": "23231b99-2d20-4506-c264-710914dc17fa"
      },
      "execution_count": null,
      "outputs": [
        {
          "output_type": "display_data",
          "data": {
            "text/html": [
              "<table class=\"dataframe\">\n",
              "<caption>A matrix: 3 × 2 of type dbl</caption>\n",
              "<thead>\n",
              "\t<tr><th></th><th scope=col>2.5 %</th><th scope=col>97.5 %</th></tr>\n",
              "</thead>\n",
              "<tbody>\n",
              "\t<tr><th scope=row>(Intercept)</th><td>-84.5242557</td><td>52.33749</td></tr>\n",
              "\t<tr><th scope=row>Recamaras</th><td>-38.3495768</td><td>36.00327</td></tr>\n",
              "\t<tr><th scope=row>Tamanio</th><td>  0.6470321</td><td>10.79655</td></tr>\n",
              "</tbody>\n",
              "</table>\n"
            ],
            "text/markdown": "\nA matrix: 3 × 2 of type dbl\n\n| <!--/--> | 2.5 % | 97.5 % |\n|---|---|---|\n| (Intercept) | -84.5242557 | 52.33749 |\n| Recamaras | -38.3495768 | 36.00327 |\n| Tamanio |   0.6470321 | 10.79655 |\n\n",
            "text/latex": "A matrix: 3 × 2 of type dbl\n\\begin{tabular}{r|ll}\n  & 2.5 \\% & 97.5 \\%\\\\\n\\hline\n\t(Intercept) & -84.5242557 & 52.33749\\\\\n\tRecamaras & -38.3495768 & 36.00327\\\\\n\tTamanio &   0.6470321 & 10.79655\\\\\n\\end{tabular}\n",
            "text/plain": [
              "            2.5 %       97.5 %  \n",
              "(Intercept) -84.5242557 52.33749\n",
              "Recamaras   -38.3495768 36.00327\n",
              "Tamanio       0.6470321 10.79655"
            ]
          },
          "metadata": {}
        }
      ]
    },
    {
      "cell_type": "markdown",
      "source": [
        "1) $Y = -16.093+ -1.173 X_1 +5.722 X_2$"
      ],
      "metadata": {
        "id": "AfOK_367Zf2s"
      }
    },
    {
      "cell_type": "code",
      "source": [
        "modeloo$coefficients[1]+modeloo$coefficients[2]*4+modeloo$coefficients[3]*25"
      ],
      "metadata": {
        "colab": {
          "base_uri": "https://localhost:8080/",
          "height": 34
        },
        "id": "KsaqkgPGaQVd",
        "outputId": "4e0bf1c4-82b3-466d-9fda-bb56df8609f9"
      },
      "execution_count": null,
      "outputs": [
        {
          "output_type": "display_data",
          "data": {
            "text/html": [
              "<strong>(Intercept):</strong> 122.258754863813"
            ],
            "text/markdown": "**(Intercept):** 122.258754863813",
            "text/latex": "\\textbf{(Intercept):} 122.258754863813",
            "text/plain": [
              "(Intercept) \n",
              "   122.2588 "
            ]
          },
          "metadata": {}
        }
      ]
    },
    {
      "cell_type": "code",
      "source": [
        "summary(modeloo)"
      ],
      "metadata": {
        "colab": {
          "base_uri": "https://localhost:8080/",
          "height": 347
        },
        "id": "_Y5aN5qeawVa",
        "outputId": "a4f510b1-63f5-42cd-c144-3b59681880c2"
      },
      "execution_count": null,
      "outputs": [
        {
          "output_type": "display_data",
          "data": {
            "text/plain": [
              "\n",
              "Call:\n",
              "lm(formula = Precio ~ Recamaras + Tamanio, data = casas)\n",
              "\n",
              "Residuals:\n",
              "      1       2       3       4       5       6       7 \n",
              " -3.379   0.177 -18.259   4.907   8.140  -2.928  11.342 \n",
              "\n",
              "Coefficients:\n",
              "            Estimate Std. Error t value Pr(>|t|)  \n",
              "(Intercept)  -16.093     24.647  -0.653   0.5494  \n",
              "Recamaras     -1.173     13.390  -0.088   0.9344  \n",
              "Tamanio        5.722      1.828   3.130   0.0352 *\n",
              "---\n",
              "Signif. codes:  0 ‘***’ 0.001 ‘**’ 0.01 ‘*’ 0.05 ‘.’ 0.1 ‘ ’ 1\n",
              "\n",
              "Residual standard error: 11.96 on 4 degrees of freedom\n",
              "Multiple R-squared:  0.9092,\tAdjusted R-squared:  0.8638 \n",
              "F-statistic: 20.03 on 2 and 4 DF,  p-value: 0.00824\n"
            ]
          },
          "metadata": {}
        }
      ]
    },
    {
      "cell_type": "markdown",
      "source": [
        "De las dos variables estudiadas (El tamaño y el número de recámaras), solo el tamaño de la vivienda repercute en el valor de la misma. Por lo que, el tamaño sí tiene un efecto."
      ],
      "metadata": {
        "id": "RcMkKtYabSwU"
      }
    },
    {
      "cell_type": "markdown",
      "source": [
        "## 2) El segundo conjunto de datos contiene observaciones sobre el porcentaje de personas que van en bicicleta al trabajo cada día, el porcentaje de personas que fuman y el porcentaje de personas con enfermedades cardiacas en una muestra imaginaria de 500 ciudades."
      ],
      "metadata": {
        "id": "WYfs0ChEe3Bh"
      }
    },
    {
      "cell_type": "markdown",
      "source": [
        " ¿Se relaciona la cantidad de personas con enfermedades caridacas con el de personas que usan bicicle y fuman?"
      ],
      "metadata": {
        "id": "0ecrNZmZj2bS"
      }
    },
    {
      "cell_type": "code",
      "source": [
        "enfermedades<-read.csv(\"/heart.data.csv\")"
      ],
      "metadata": {
        "id": "1X0GSDEbj2Ba"
      },
      "execution_count": null,
      "outputs": []
    },
    {
      "cell_type": "code",
      "source": [
        "dim(enfermedades)"
      ],
      "metadata": {
        "colab": {
          "base_uri": "https://localhost:8080/",
          "height": 34
        },
        "id": "sXvChTtbe6hr",
        "outputId": "05ef9ffe-aec8-4415-bf43-a9cf1d3c006b"
      },
      "execution_count": null,
      "outputs": [
        {
          "output_type": "display_data",
          "data": {
            "text/html": [
              "<style>\n",
              ".list-inline {list-style: none; margin:0; padding: 0}\n",
              ".list-inline>li {display: inline-block}\n",
              ".list-inline>li:not(:last-child)::after {content: \"\\00b7\"; padding: 0 .5ex}\n",
              "</style>\n",
              "<ol class=list-inline><li>498</li><li>4</li></ol>\n"
            ],
            "text/markdown": "1. 498\n2. 4\n\n\n",
            "text/latex": "\\begin{enumerate*}\n\\item 498\n\\item 4\n\\end{enumerate*}\n",
            "text/plain": [
              "[1] 498   4"
            ]
          },
          "metadata": {}
        }
      ]
    },
    {
      "cell_type": "code",
      "source": [
        "colnames(enfermedades)\n",
        "is.data.frame(enfermedades)"
      ],
      "metadata": {
        "colab": {
          "base_uri": "https://localhost:8080/",
          "height": 52
        },
        "id": "p83d8CmelDbO",
        "outputId": "59bd62bc-e839-427d-c23e-1c06fb2c8555"
      },
      "execution_count": null,
      "outputs": [
        {
          "output_type": "display_data",
          "data": {
            "text/html": [
              "<style>\n",
              ".list-inline {list-style: none; margin:0; padding: 0}\n",
              ".list-inline>li {display: inline-block}\n",
              ".list-inline>li:not(:last-child)::after {content: \"\\00b7\"; padding: 0 .5ex}\n",
              "</style>\n",
              "<ol class=list-inline><li>'X'</li><li>'biking'</li><li>'smoking'</li><li>'heart.disease'</li></ol>\n"
            ],
            "text/markdown": "1. 'X'\n2. 'biking'\n3. 'smoking'\n4. 'heart.disease'\n\n\n",
            "text/latex": "\\begin{enumerate*}\n\\item 'X'\n\\item 'biking'\n\\item 'smoking'\n\\item 'heart.disease'\n\\end{enumerate*}\n",
            "text/plain": [
              "[1] \"X\"             \"biking\"        \"smoking\"       \"heart.disease\""
            ]
          },
          "metadata": {}
        },
        {
          "output_type": "display_data",
          "data": {
            "text/html": [
              "TRUE"
            ],
            "text/markdown": "TRUE",
            "text/latex": "TRUE",
            "text/plain": [
              "[1] TRUE"
            ]
          },
          "metadata": {}
        }
      ]
    },
    {
      "cell_type": "code",
      "source": [
        "disx<-cbind(rep(1,nrow(enfermedades)),enfermedades[,-c(1,4)])\n",
        "colnames(disx)<-c(\"Unos\",\"Bicicleta\",\"Fumar\")\n",
        "enfe_cora<-as.numeric(enfermedades[,4])\n",
        "disx<-as.matrix(disx)"
      ],
      "metadata": {
        "id": "eyeIVvDClQFK"
      },
      "execution_count": null,
      "outputs": []
    },
    {
      "cell_type": "code",
      "source": [
        "betass2<-solve(t(disx)%*%disx)%*%t(disx)%*%enfe_cora\n",
        "SSE22<-t(enfe_cora)%*%enfe_cora-t(betass2)%*%(t(disx)%*%enfe_cora)\n",
        "betass2\n",
        "SSE22"
      ],
      "metadata": {
        "colab": {
          "base_uri": "https://localhost:8080/",
          "height": 212
        },
        "id": "E8by_ndbmyPI",
        "outputId": "48c952c7-a6c0-4e62-ec0d-395ccdd50f88"
      },
      "execution_count": null,
      "outputs": [
        {
          "output_type": "display_data",
          "data": {
            "text/html": [
              "<table class=\"dataframe\">\n",
              "<caption>A matrix: 3 × 1 of type dbl</caption>\n",
              "<tbody>\n",
              "\t<tr><th scope=row>Unos</th><td>14.9846580</td></tr>\n",
              "\t<tr><th scope=row>Bicicleta</th><td>-0.2001331</td></tr>\n",
              "\t<tr><th scope=row>Fumar</th><td> 0.1783339</td></tr>\n",
              "</tbody>\n",
              "</table>\n"
            ],
            "text/markdown": "\nA matrix: 3 × 1 of type dbl\n\n| Unos | 14.9846580 |\n| Bicicleta | -0.2001331 |\n| Fumar |  0.1783339 |\n\n",
            "text/latex": "A matrix: 3 × 1 of type dbl\n\\begin{tabular}{r|l}\n\tUnos & 14.9846580\\\\\n\tBicicleta & -0.2001331\\\\\n\tFumar &  0.1783339\\\\\n\\end{tabular}\n",
            "text/plain": [
              "          [,1]      \n",
              "Unos      14.9846580\n",
              "Bicicleta -0.2001331\n",
              "Fumar      0.1783339"
            ]
          },
          "metadata": {}
        },
        {
          "output_type": "display_data",
          "data": {
            "text/html": [
              "<table class=\"dataframe\">\n",
              "<caption>A matrix: 1 × 1 of type dbl</caption>\n",
              "<tbody>\n",
              "\t<tr><td>211.7403</td></tr>\n",
              "</tbody>\n",
              "</table>\n"
            ],
            "text/markdown": "\nA matrix: 1 × 1 of type dbl\n\n| 211.7403 |\n\n",
            "text/latex": "A matrix: 1 × 1 of type dbl\n\\begin{tabular}{l}\n\t 211.7403\\\\\n\\end{tabular}\n",
            "text/plain": [
              "     [,1]    \n",
              "[1,] 211.7403"
            ]
          },
          "metadata": {}
        }
      ]
    },
    {
      "cell_type": "code",
      "source": [
        "modeloo2<-lm(heart.disease~biking+smoking,data=enfermedades)\n",
        "summary(modeloo2)"
      ],
      "metadata": {
        "colab": {
          "base_uri": "https://localhost:8080/",
          "height": 347
        },
        "id": "FjSl1kkeoE-Y",
        "outputId": "6373c393-bb05-4258-ee55-5e58142158df"
      },
      "execution_count": null,
      "outputs": [
        {
          "output_type": "display_data",
          "data": {
            "text/plain": [
              "\n",
              "Call:\n",
              "lm(formula = heart.disease ~ biking + smoking, data = enfermedades)\n",
              "\n",
              "Residuals:\n",
              "    Min      1Q  Median      3Q     Max \n",
              "-2.1789 -0.4463  0.0362  0.4422  1.9331 \n",
              "\n",
              "Coefficients:\n",
              "             Estimate Std. Error t value Pr(>|t|)    \n",
              "(Intercept) 14.984658   0.080137  186.99   <2e-16 ***\n",
              "biking      -0.200133   0.001366 -146.53   <2e-16 ***\n",
              "smoking      0.178334   0.003539   50.39   <2e-16 ***\n",
              "---\n",
              "Signif. codes:  0 ‘***’ 0.001 ‘**’ 0.01 ‘*’ 0.05 ‘.’ 0.1 ‘ ’ 1\n",
              "\n",
              "Residual standard error: 0.654 on 495 degrees of freedom\n",
              "Multiple R-squared:  0.9796,\tAdjusted R-squared:  0.9795 \n",
              "F-statistic: 1.19e+04 on 2 and 495 DF,  p-value: < 2.2e-16\n"
            ]
          },
          "metadata": {}
        }
      ]
    },
    {
      "cell_type": "markdown",
      "source": [
        "Y = Porcentaje de personas con enfermedades cardiacas\\\n",
        "X1= Porcentaje de personas que utilizan la bicicleta para llegar al trabajo.\\\n",
        "X2 = Porcentaje de población fumadora"
      ],
      "metadata": {
        "id": "d-cZ6V6Bpavj"
      }
    },
    {
      "cell_type": "code",
      "source": [
        "confint(modeloo2)"
      ],
      "metadata": {
        "colab": {
          "base_uri": "https://localhost:8080/",
          "height": 161
        },
        "id": "dO3ZxvjVpTqV",
        "outputId": "a10e4c5a-4a04-4b97-9c54-6eb15867c5ab"
      },
      "execution_count": null,
      "outputs": [
        {
          "output_type": "display_data",
          "data": {
            "text/html": [
              "<table class=\"dataframe\">\n",
              "<caption>A matrix: 3 × 2 of type dbl</caption>\n",
              "<thead>\n",
              "\t<tr><th></th><th scope=col>2.5 %</th><th scope=col>97.5 %</th></tr>\n",
              "</thead>\n",
              "<tbody>\n",
              "\t<tr><th scope=row>(Intercept)</th><td>14.8272075</td><td>15.1421084</td></tr>\n",
              "\t<tr><th scope=row>biking</th><td>-0.2028166</td><td>-0.1974495</td></tr>\n",
              "\t<tr><th scope=row>smoking</th><td> 0.1713800</td><td> 0.1852878</td></tr>\n",
              "</tbody>\n",
              "</table>\n"
            ],
            "text/markdown": "\nA matrix: 3 × 2 of type dbl\n\n| <!--/--> | 2.5 % | 97.5 % |\n|---|---|---|\n| (Intercept) | 14.8272075 | 15.1421084 |\n| biking | -0.2028166 | -0.1974495 |\n| smoking |  0.1713800 |  0.1852878 |\n\n",
            "text/latex": "A matrix: 3 × 2 of type dbl\n\\begin{tabular}{r|ll}\n  & 2.5 \\% & 97.5 \\%\\\\\n\\hline\n\t(Intercept) & 14.8272075 & 15.1421084\\\\\n\tbiking & -0.2028166 & -0.1974495\\\\\n\tsmoking &  0.1713800 &  0.1852878\\\\\n\\end{tabular}\n",
            "text/plain": [
              "            2.5 %      97.5 %    \n",
              "(Intercept) 14.8272075 15.1421084\n",
              "biking      -0.2028166 -0.1974495\n",
              "smoking      0.1713800  0.1852878"
            ]
          },
          "metadata": {}
        }
      ]
    },
    {
      "cell_type": "markdown",
      "source": [
        " 1) ¿Qué porcentaje de personas con enfermedades cardiacas se espera encontrar en una ciudad con el 50% de la población que utiliza la bicicleta para llegar al trabajo y, el 10% es fumador? \\\n",
        " 2) ¿Y el 20% de bicicleta y 20% fumador?\n",
        " # Encargo (5 o 10 minutos)"
      ],
      "metadata": {
        "id": "wdoPjoYlqNeZ"
      }
    },
    {
      "cell_type": "code",
      "source": [
        "predichos<-data.frame(biking = c(50,20), smoking = c(10,20))\n",
        "predichos"
      ],
      "metadata": {
        "colab": {
          "base_uri": "https://localhost:8080/",
          "height": 161
        },
        "id": "J4NajuukwW7m",
        "outputId": "b828ff76-e59c-42ae-c7c4-bd2bd81293c4"
      },
      "execution_count": null,
      "outputs": [
        {
          "output_type": "display_data",
          "data": {
            "text/html": [
              "<table class=\"dataframe\">\n",
              "<caption>A data.frame: 2 × 2</caption>\n",
              "<thead>\n",
              "\t<tr><th scope=col>biking</th><th scope=col>smoking</th></tr>\n",
              "\t<tr><th scope=col>&lt;dbl&gt;</th><th scope=col>&lt;dbl&gt;</th></tr>\n",
              "</thead>\n",
              "<tbody>\n",
              "\t<tr><td>50</td><td>10</td></tr>\n",
              "\t<tr><td>20</td><td>20</td></tr>\n",
              "</tbody>\n",
              "</table>\n"
            ],
            "text/markdown": "\nA data.frame: 2 × 2\n\n| biking &lt;dbl&gt; | smoking &lt;dbl&gt; |\n|---|---|\n| 50 | 10 |\n| 20 | 20 |\n\n",
            "text/latex": "A data.frame: 2 × 2\n\\begin{tabular}{ll}\n biking & smoking\\\\\n <dbl> & <dbl>\\\\\n\\hline\n\t 50 & 10\\\\\n\t 20 & 20\\\\\n\\end{tabular}\n",
            "text/plain": [
              "  biking smoking\n",
              "1 50     10     \n",
              "2 20     20     "
            ]
          },
          "metadata": {}
        }
      ]
    },
    {
      "cell_type": "code",
      "source": [
        "predichos2<-data.frame(predichos,\n",
        "Predicho = predict(modeloo2,new=predichos) )\n",
        "Predicho\n"
      ],
      "metadata": {
        "colab": {
          "base_uri": "https://localhost:8080/",
          "height": 72
        },
        "id": "ku0RTShyuXLD",
        "outputId": "eff0978b-bfb8-4091-a4a7-c7c80c515c53"
      },
      "execution_count": null,
      "outputs": [
        {
          "output_type": "error",
          "ename": "ERROR",
          "evalue": "Error: object 'Predicho' not found\n",
          "traceback": [
            "Error: object 'Predicho' not found\nTraceback:\n"
          ]
        }
      ]
    },
    {
      "cell_type": "code",
      "source": [
        "modelo_pred <- predict(modeloo2, newdata = data.frame(biking = 50, smoking = 10))\n",
        "modelo_pred"
      ],
      "metadata": {
        "colab": {
          "base_uri": "https://localhost:8080/",
          "height": 34
        },
        "id": "VikRfLDjsLYR",
        "outputId": "dc0d4801-b5e9-40c2-c884-5cbac81a4aa3"
      },
      "execution_count": null,
      "outputs": [
        {
          "output_type": "display_data",
          "data": {
            "text/html": [
              "<strong>1:</strong> 6.76134452779854"
            ],
            "text/markdown": "**1:** 6.76134452779854",
            "text/latex": "\\textbf{1:} 6.76134452779854",
            "text/plain": [
              "       1 \n",
              "6.761345 "
            ]
          },
          "metadata": {}
        }
      ]
    },
    {
      "cell_type": "code",
      "source": [
        "modelo_pred2 <- predict(modeloo2, newdata = data.frame(biking = 20, smoking = 20))\n",
        "modelo_pred2"
      ],
      "metadata": {
        "colab": {
          "base_uri": "https://localhost:8080/",
          "height": 34
        },
        "id": "7-ojpQbrsNU0",
        "outputId": "077d70f0-8158-4ed9-b102-844c4ae0394e"
      },
      "execution_count": null,
      "outputs": [
        {
          "output_type": "display_data",
          "data": {
            "text/html": [
              "<strong>1:</strong> 14.5486752249797"
            ],
            "text/markdown": "**1:** 14.5486752249797",
            "text/latex": "\\textbf{1:} 14.5486752249797",
            "text/plain": [
              "       1 \n",
              "14.54868 "
            ]
          },
          "metadata": {}
        }
      ]
    },
    {
      "cell_type": "code",
      "source": [
        "predichos2<-data.frame(predichos,\n",
        "Predicho = predict(modeloo2, predichos, interval=\"predict\")[,1],\n",
        "Inferior = predict(modeloo2, predichos, interval=\"predict\")[,2],\n",
        "Superior = predict(modeloo2, predichos, interval=\"predict\")[,3])\n",
        "predichos2"
      ],
      "metadata": {
        "colab": {
          "base_uri": "https://localhost:8080/",
          "height": 161
        },
        "id": "tuvRgmmyvF9J",
        "outputId": "cf5904a8-03c2-44e6-c2cb-0b295d0ee1f4"
      },
      "execution_count": null,
      "outputs": [
        {
          "output_type": "display_data",
          "data": {
            "text/html": [
              "<table class=\"dataframe\">\n",
              "<caption>A data.frame: 2 × 5</caption>\n",
              "<thead>\n",
              "\t<tr><th></th><th scope=col>biking</th><th scope=col>smoking</th><th scope=col>Predicho</th><th scope=col>Inferior</th><th scope=col>Superior</th></tr>\n",
              "\t<tr><th></th><th scope=col>&lt;dbl&gt;</th><th scope=col>&lt;dbl&gt;</th><th scope=col>&lt;dbl&gt;</th><th scope=col>&lt;dbl&gt;</th><th scope=col>&lt;dbl&gt;</th></tr>\n",
              "</thead>\n",
              "<tbody>\n",
              "\t<tr><th scope=row>1</th><td>50</td><td>10</td><td> 6.761345</td><td> 5.474047</td><td> 8.048642</td></tr>\n",
              "\t<tr><th scope=row>2</th><td>20</td><td>20</td><td>14.548675</td><td>13.261070</td><td>15.836281</td></tr>\n",
              "</tbody>\n",
              "</table>\n"
            ],
            "text/markdown": "\nA data.frame: 2 × 5\n\n| <!--/--> | biking &lt;dbl&gt; | smoking &lt;dbl&gt; | Predicho &lt;dbl&gt; | Inferior &lt;dbl&gt; | Superior &lt;dbl&gt; |\n|---|---|---|---|---|---|\n| 1 | 50 | 10 |  6.761345 |  5.474047 |  8.048642 |\n| 2 | 20 | 20 | 14.548675 | 13.261070 | 15.836281 |\n\n",
            "text/latex": "A data.frame: 2 × 5\n\\begin{tabular}{r|lllll}\n  & biking & smoking & Predicho & Inferior & Superior\\\\\n  & <dbl> & <dbl> & <dbl> & <dbl> & <dbl>\\\\\n\\hline\n\t1 & 50 & 10 &  6.761345 &  5.474047 &  8.048642\\\\\n\t2 & 20 & 20 & 14.548675 & 13.261070 & 15.836281\\\\\n\\end{tabular}\n",
            "text/plain": [
              "  biking smoking Predicho  Inferior  Superior \n",
              "1 50     10       6.761345  5.474047  8.048642\n",
              "2 20     20      14.548675 13.261070 15.836281"
            ]
          },
          "metadata": {}
        }
      ]
    }
  ]
}